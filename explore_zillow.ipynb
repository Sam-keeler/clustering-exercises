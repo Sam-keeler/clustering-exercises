{
 "cells": [
  {
   "cell_type": "code",
   "execution_count": 1,
   "metadata": {},
   "outputs": [],
   "source": [
    "import matplotlib.pyplot as plt\n",
    "import numpy as np\n",
    "import pandas as pd\n",
    "from scipy import stats\n",
    "from datetime import date\n",
    "import seaborn as sns\n",
    "from pydataset import data\n",
    "from env import host, user, password\n",
    "from sklearn.model_selection import train_test_split\n",
    "import os\n",
    "from wrangle import acquire_zillow, handle_missing_values, prep_zillow, handle_outliers\n",
    "import re\n",
    "import PyPDF2\n",
    "import explore"
   ]
  },
  {
   "cell_type": "code",
   "execution_count": 4,
   "metadata": {},
   "outputs": [],
   "source": [
    "db = acquire_zillow()\n",
    "db = db.rename(columns = {'max(logerror)' : 'error'})\n",
    "db = handle_missing_values(db)\n",
    "db = prep_zillow(db)"
   ]
  },
  {
   "cell_type": "code",
   "execution_count": 5,
   "metadata": {},
   "outputs": [],
   "source": [
    "pd.set_option('max_columns', None)"
   ]
  },
  {
   "cell_type": "code",
   "execution_count": 24,
   "metadata": {},
   "outputs": [
    {
     "data": {
      "text/html": [
       "<div>\n",
       "<style scoped>\n",
       "    .dataframe tbody tr th:only-of-type {\n",
       "        vertical-align: middle;\n",
       "    }\n",
       "\n",
       "    .dataframe tbody tr th {\n",
       "        vertical-align: top;\n",
       "    }\n",
       "\n",
       "    .dataframe thead th {\n",
       "        text-align: right;\n",
       "    }\n",
       "</style>\n",
       "<table border=\"1\" class=\"dataframe\">\n",
       "  <thead>\n",
       "    <tr style=\"text-align: right;\">\n",
       "      <th></th>\n",
       "      <th>parcelid</th>\n",
       "      <th>propertylandusetypeid</th>\n",
       "      <th>heatingorsystemtypeid</th>\n",
       "      <th>bathroomcnt</th>\n",
       "      <th>bedroomcnt</th>\n",
       "      <th>buildingqualitytypeid</th>\n",
       "      <th>calculatedbathnbr</th>\n",
       "      <th>calculatedfinishedsquarefeet</th>\n",
       "      <th>county</th>\n",
       "      <th>latitude</th>\n",
       "      <th>longitude</th>\n",
       "      <th>lotsizesquarefeet</th>\n",
       "      <th>rawcensustractandblock</th>\n",
       "      <th>regionidcounty</th>\n",
       "      <th>regionidzip</th>\n",
       "      <th>roomcnt</th>\n",
       "      <th>unitcnt</th>\n",
       "      <th>yearbuilt</th>\n",
       "      <th>structuretaxvaluedollarcnt</th>\n",
       "      <th>taxvaluedollarcnt</th>\n",
       "      <th>landtaxvaluedollarcnt</th>\n",
       "      <th>taxamount</th>\n",
       "      <th>censustractandblock</th>\n",
       "      <th>error</th>\n",
       "      <th>transactiondate</th>\n",
       "      <th>heatingorsystemdesc</th>\n",
       "    </tr>\n",
       "    <tr>\n",
       "      <th>propertylandusedesc</th>\n",
       "      <th></th>\n",
       "      <th></th>\n",
       "      <th></th>\n",
       "      <th></th>\n",
       "      <th></th>\n",
       "      <th></th>\n",
       "      <th></th>\n",
       "      <th></th>\n",
       "      <th></th>\n",
       "      <th></th>\n",
       "      <th></th>\n",
       "      <th></th>\n",
       "      <th></th>\n",
       "      <th></th>\n",
       "      <th></th>\n",
       "      <th></th>\n",
       "      <th></th>\n",
       "      <th></th>\n",
       "      <th></th>\n",
       "      <th></th>\n",
       "      <th></th>\n",
       "      <th></th>\n",
       "      <th></th>\n",
       "      <th></th>\n",
       "      <th></th>\n",
       "      <th></th>\n",
       "    </tr>\n",
       "  </thead>\n",
       "  <tbody>\n",
       "    <tr>\n",
       "      <th>Manufactured, Modular, Prefabricated Homes</th>\n",
       "      <td>34</td>\n",
       "      <td>34</td>\n",
       "      <td>0</td>\n",
       "      <td>34</td>\n",
       "      <td>34</td>\n",
       "      <td>34</td>\n",
       "      <td>34</td>\n",
       "      <td>34</td>\n",
       "      <td>34</td>\n",
       "      <td>34</td>\n",
       "      <td>34</td>\n",
       "      <td>34</td>\n",
       "      <td>34</td>\n",
       "      <td>34</td>\n",
       "      <td>34</td>\n",
       "      <td>34</td>\n",
       "      <td>34</td>\n",
       "      <td>34</td>\n",
       "      <td>34</td>\n",
       "      <td>34</td>\n",
       "      <td>34</td>\n",
       "      <td>34</td>\n",
       "      <td>34</td>\n",
       "      <td>34</td>\n",
       "      <td>34</td>\n",
       "      <td>34</td>\n",
       "    </tr>\n",
       "    <tr>\n",
       "      <th>Mobile Home</th>\n",
       "      <td>59</td>\n",
       "      <td>59</td>\n",
       "      <td>0</td>\n",
       "      <td>59</td>\n",
       "      <td>59</td>\n",
       "      <td>59</td>\n",
       "      <td>59</td>\n",
       "      <td>59</td>\n",
       "      <td>59</td>\n",
       "      <td>59</td>\n",
       "      <td>59</td>\n",
       "      <td>59</td>\n",
       "      <td>59</td>\n",
       "      <td>59</td>\n",
       "      <td>59</td>\n",
       "      <td>59</td>\n",
       "      <td>59</td>\n",
       "      <td>59</td>\n",
       "      <td>59</td>\n",
       "      <td>59</td>\n",
       "      <td>59</td>\n",
       "      <td>59</td>\n",
       "      <td>59</td>\n",
       "      <td>59</td>\n",
       "      <td>59</td>\n",
       "      <td>59</td>\n",
       "    </tr>\n",
       "    <tr>\n",
       "      <th>Single Family Residential</th>\n",
       "      <td>51850</td>\n",
       "      <td>51850</td>\n",
       "      <td>33599</td>\n",
       "      <td>51850</td>\n",
       "      <td>51850</td>\n",
       "      <td>51850</td>\n",
       "      <td>51835</td>\n",
       "      <td>51850</td>\n",
       "      <td>51850</td>\n",
       "      <td>51850</td>\n",
       "      <td>51850</td>\n",
       "      <td>51850</td>\n",
       "      <td>51850</td>\n",
       "      <td>51850</td>\n",
       "      <td>51850</td>\n",
       "      <td>51850</td>\n",
       "      <td>51850</td>\n",
       "      <td>51822</td>\n",
       "      <td>51788</td>\n",
       "      <td>51850</td>\n",
       "      <td>51850</td>\n",
       "      <td>51846</td>\n",
       "      <td>51764</td>\n",
       "      <td>51850</td>\n",
       "      <td>51850</td>\n",
       "      <td>51850</td>\n",
       "    </tr>\n",
       "  </tbody>\n",
       "</table>\n",
       "</div>"
      ],
      "text/plain": [
       "                                            parcelid  propertylandusetypeid  \\\n",
       "propertylandusedesc                                                           \n",
       "Manufactured, Modular, Prefabricated Homes        34                     34   \n",
       "Mobile Home                                       59                     59   \n",
       "Single Family Residential                      51850                  51850   \n",
       "\n",
       "                                            heatingorsystemtypeid  \\\n",
       "propertylandusedesc                                                 \n",
       "Manufactured, Modular, Prefabricated Homes                      0   \n",
       "Mobile Home                                                     0   \n",
       "Single Family Residential                                   33599   \n",
       "\n",
       "                                            bathroomcnt  bedroomcnt  \\\n",
       "propertylandusedesc                                                   \n",
       "Manufactured, Modular, Prefabricated Homes           34          34   \n",
       "Mobile Home                                          59          59   \n",
       "Single Family Residential                         51850       51850   \n",
       "\n",
       "                                            buildingqualitytypeid  \\\n",
       "propertylandusedesc                                                 \n",
       "Manufactured, Modular, Prefabricated Homes                     34   \n",
       "Mobile Home                                                    59   \n",
       "Single Family Residential                                   51850   \n",
       "\n",
       "                                            calculatedbathnbr  \\\n",
       "propertylandusedesc                                             \n",
       "Manufactured, Modular, Prefabricated Homes                 34   \n",
       "Mobile Home                                                59   \n",
       "Single Family Residential                               51835   \n",
       "\n",
       "                                            calculatedfinishedsquarefeet  \\\n",
       "propertylandusedesc                                                        \n",
       "Manufactured, Modular, Prefabricated Homes                            34   \n",
       "Mobile Home                                                           59   \n",
       "Single Family Residential                                          51850   \n",
       "\n",
       "                                            county  latitude  longitude  \\\n",
       "propertylandusedesc                                                       \n",
       "Manufactured, Modular, Prefabricated Homes      34        34         34   \n",
       "Mobile Home                                     59        59         59   \n",
       "Single Family Residential                    51850     51850      51850   \n",
       "\n",
       "                                            lotsizesquarefeet  \\\n",
       "propertylandusedesc                                             \n",
       "Manufactured, Modular, Prefabricated Homes                 34   \n",
       "Mobile Home                                                59   \n",
       "Single Family Residential                               51850   \n",
       "\n",
       "                                            rawcensustractandblock  \\\n",
       "propertylandusedesc                                                  \n",
       "Manufactured, Modular, Prefabricated Homes                      34   \n",
       "Mobile Home                                                     59   \n",
       "Single Family Residential                                    51850   \n",
       "\n",
       "                                            regionidcounty  regionidzip  \\\n",
       "propertylandusedesc                                                       \n",
       "Manufactured, Modular, Prefabricated Homes              34           34   \n",
       "Mobile Home                                             59           59   \n",
       "Single Family Residential                            51850        51850   \n",
       "\n",
       "                                            roomcnt  unitcnt  yearbuilt  \\\n",
       "propertylandusedesc                                                       \n",
       "Manufactured, Modular, Prefabricated Homes       34       34         34   \n",
       "Mobile Home                                      59       59         59   \n",
       "Single Family Residential                     51850    51850      51822   \n",
       "\n",
       "                                            structuretaxvaluedollarcnt  \\\n",
       "propertylandusedesc                                                      \n",
       "Manufactured, Modular, Prefabricated Homes                          34   \n",
       "Mobile Home                                                         59   \n",
       "Single Family Residential                                        51788   \n",
       "\n",
       "                                            taxvaluedollarcnt  \\\n",
       "propertylandusedesc                                             \n",
       "Manufactured, Modular, Prefabricated Homes                 34   \n",
       "Mobile Home                                                59   \n",
       "Single Family Residential                               51850   \n",
       "\n",
       "                                            landtaxvaluedollarcnt  taxamount  \\\n",
       "propertylandusedesc                                                            \n",
       "Manufactured, Modular, Prefabricated Homes                     34         34   \n",
       "Mobile Home                                                    59         59   \n",
       "Single Family Residential                                   51850      51846   \n",
       "\n",
       "                                            censustractandblock  error  \\\n",
       "propertylandusedesc                                                      \n",
       "Manufactured, Modular, Prefabricated Homes                   34     34   \n",
       "Mobile Home                                                  59     59   \n",
       "Single Family Residential                                 51764  51850   \n",
       "\n",
       "                                            transactiondate  \\\n",
       "propertylandusedesc                                           \n",
       "Manufactured, Modular, Prefabricated Homes               34   \n",
       "Mobile Home                                              59   \n",
       "Single Family Residential                             51850   \n",
       "\n",
       "                                            heatingorsystemdesc  \n",
       "propertylandusedesc                                              \n",
       "Manufactured, Modular, Prefabricated Homes                   34  \n",
       "Mobile Home                                                  59  \n",
       "Single Family Residential                                 51850  "
      ]
     },
     "execution_count": 24,
     "metadata": {},
     "output_type": "execute_result"
    }
   ],
   "source": [
    "db.groupby(\"propertylandusedesc\").count()"
   ]
  },
  {
   "cell_type": "code",
   "execution_count": 7,
   "metadata": {},
   "outputs": [],
   "source": [
    "db = db[(db['regionidzip'] < 100000)]"
   ]
  },
  {
   "cell_type": "code",
   "execution_count": 8,
   "metadata": {},
   "outputs": [
    {
     "data": {
      "text/html": [
       "<div>\n",
       "<style scoped>\n",
       "    .dataframe tbody tr th:only-of-type {\n",
       "        vertical-align: middle;\n",
       "    }\n",
       "\n",
       "    .dataframe tbody tr th {\n",
       "        vertical-align: top;\n",
       "    }\n",
       "\n",
       "    .dataframe thead th {\n",
       "        text-align: right;\n",
       "    }\n",
       "</style>\n",
       "<table border=\"1\" class=\"dataframe\">\n",
       "  <thead>\n",
       "    <tr style=\"text-align: right;\">\n",
       "      <th></th>\n",
       "      <th>parcelid</th>\n",
       "      <th>propertylandusetypeid</th>\n",
       "      <th>heatingorsystemtypeid</th>\n",
       "      <th>bathroomcnt</th>\n",
       "      <th>bedroomcnt</th>\n",
       "      <th>buildingqualitytypeid</th>\n",
       "      <th>calculatedbathnbr</th>\n",
       "      <th>calculatedfinishedsquarefeet</th>\n",
       "      <th>county</th>\n",
       "      <th>latitude</th>\n",
       "      <th>longitude</th>\n",
       "      <th>lotsizesquarefeet</th>\n",
       "      <th>rawcensustractandblock</th>\n",
       "      <th>regionidcounty</th>\n",
       "      <th>regionidzip</th>\n",
       "      <th>roomcnt</th>\n",
       "      <th>unitcnt</th>\n",
       "      <th>yearbuilt</th>\n",
       "      <th>structuretaxvaluedollarcnt</th>\n",
       "      <th>taxvaluedollarcnt</th>\n",
       "      <th>landtaxvaluedollarcnt</th>\n",
       "      <th>taxamount</th>\n",
       "      <th>censustractandblock</th>\n",
       "      <th>error</th>\n",
       "      <th>transactiondate</th>\n",
       "      <th>heatingorsystemdesc</th>\n",
       "      <th>propertylandusedesc</th>\n",
       "    </tr>\n",
       "  </thead>\n",
       "  <tbody>\n",
       "    <tr>\n",
       "      <th>0</th>\n",
       "      <td>10711855</td>\n",
       "      <td>261.0</td>\n",
       "      <td>2.0</td>\n",
       "      <td>2.0</td>\n",
       "      <td>3.0</td>\n",
       "      <td>8.0</td>\n",
       "      <td>2.0</td>\n",
       "      <td>2107.0</td>\n",
       "      <td>Los Angeles</td>\n",
       "      <td>34222559.0</td>\n",
       "      <td>-118617387.0</td>\n",
       "      <td>9158.0</td>\n",
       "      <td>6.037113e+07</td>\n",
       "      <td>3101.0</td>\n",
       "      <td>96339.0</td>\n",
       "      <td>0.0</td>\n",
       "      <td>1.0</td>\n",
       "      <td>1972.0</td>\n",
       "      <td>249655.0</td>\n",
       "      <td>624139.0</td>\n",
       "      <td>374484.0</td>\n",
       "      <td>7659.36</td>\n",
       "      <td>6.037113e+13</td>\n",
       "      <td>-0.007357</td>\n",
       "      <td>2017-07-07</td>\n",
       "      <td>Central</td>\n",
       "      <td>Single Family Residential</td>\n",
       "    </tr>\n",
       "    <tr>\n",
       "      <th>1</th>\n",
       "      <td>10711877</td>\n",
       "      <td>261.0</td>\n",
       "      <td>2.0</td>\n",
       "      <td>2.0</td>\n",
       "      <td>4.0</td>\n",
       "      <td>8.0</td>\n",
       "      <td>2.0</td>\n",
       "      <td>1882.0</td>\n",
       "      <td>Los Angeles</td>\n",
       "      <td>34220261.0</td>\n",
       "      <td>-118616409.0</td>\n",
       "      <td>9035.0</td>\n",
       "      <td>6.037113e+07</td>\n",
       "      <td>3101.0</td>\n",
       "      <td>96339.0</td>\n",
       "      <td>0.0</td>\n",
       "      <td>1.0</td>\n",
       "      <td>1972.0</td>\n",
       "      <td>253000.0</td>\n",
       "      <td>660000.0</td>\n",
       "      <td>407000.0</td>\n",
       "      <td>8123.91</td>\n",
       "      <td>6.037113e+13</td>\n",
       "      <td>0.021066</td>\n",
       "      <td>2017-08-29</td>\n",
       "      <td>Central</td>\n",
       "      <td>Single Family Residential</td>\n",
       "    </tr>\n",
       "    <tr>\n",
       "      <th>2</th>\n",
       "      <td>10711888</td>\n",
       "      <td>261.0</td>\n",
       "      <td>2.0</td>\n",
       "      <td>2.0</td>\n",
       "      <td>4.0</td>\n",
       "      <td>8.0</td>\n",
       "      <td>2.0</td>\n",
       "      <td>1882.0</td>\n",
       "      <td>Los Angeles</td>\n",
       "      <td>34222491.0</td>\n",
       "      <td>-118616854.0</td>\n",
       "      <td>9800.0</td>\n",
       "      <td>6.037113e+07</td>\n",
       "      <td>3101.0</td>\n",
       "      <td>96339.0</td>\n",
       "      <td>0.0</td>\n",
       "      <td>1.0</td>\n",
       "      <td>1972.0</td>\n",
       "      <td>257591.0</td>\n",
       "      <td>542923.0</td>\n",
       "      <td>285332.0</td>\n",
       "      <td>6673.24</td>\n",
       "      <td>6.037113e+13</td>\n",
       "      <td>0.077174</td>\n",
       "      <td>2017-04-04</td>\n",
       "      <td>Central</td>\n",
       "      <td>Single Family Residential</td>\n",
       "    </tr>\n",
       "    <tr>\n",
       "      <th>3</th>\n",
       "      <td>10711910</td>\n",
       "      <td>261.0</td>\n",
       "      <td>2.0</td>\n",
       "      <td>2.0</td>\n",
       "      <td>3.0</td>\n",
       "      <td>8.0</td>\n",
       "      <td>2.0</td>\n",
       "      <td>1477.0</td>\n",
       "      <td>Los Angeles</td>\n",
       "      <td>34221864.0</td>\n",
       "      <td>-118615739.0</td>\n",
       "      <td>11285.0</td>\n",
       "      <td>6.037113e+07</td>\n",
       "      <td>3101.0</td>\n",
       "      <td>96339.0</td>\n",
       "      <td>0.0</td>\n",
       "      <td>1.0</td>\n",
       "      <td>1960.0</td>\n",
       "      <td>57968.0</td>\n",
       "      <td>78031.0</td>\n",
       "      <td>20063.0</td>\n",
       "      <td>1116.46</td>\n",
       "      <td>6.037113e+13</td>\n",
       "      <td>-0.041238</td>\n",
       "      <td>2017-03-17</td>\n",
       "      <td>Central</td>\n",
       "      <td>Single Family Residential</td>\n",
       "    </tr>\n",
       "    <tr>\n",
       "      <th>4</th>\n",
       "      <td>10711923</td>\n",
       "      <td>261.0</td>\n",
       "      <td>2.0</td>\n",
       "      <td>2.0</td>\n",
       "      <td>4.0</td>\n",
       "      <td>8.0</td>\n",
       "      <td>2.0</td>\n",
       "      <td>1918.0</td>\n",
       "      <td>Los Angeles</td>\n",
       "      <td>34220619.0</td>\n",
       "      <td>-118615253.0</td>\n",
       "      <td>11239.0</td>\n",
       "      <td>6.037113e+07</td>\n",
       "      <td>3101.0</td>\n",
       "      <td>96339.0</td>\n",
       "      <td>0.0</td>\n",
       "      <td>1.0</td>\n",
       "      <td>1960.0</td>\n",
       "      <td>167869.0</td>\n",
       "      <td>415459.0</td>\n",
       "      <td>247590.0</td>\n",
       "      <td>5239.85</td>\n",
       "      <td>6.037113e+13</td>\n",
       "      <td>-0.009496</td>\n",
       "      <td>2017-03-24</td>\n",
       "      <td>Central</td>\n",
       "      <td>Single Family Residential</td>\n",
       "    </tr>\n",
       "  </tbody>\n",
       "</table>\n",
       "</div>"
      ],
      "text/plain": [
       "   parcelid  propertylandusetypeid  heatingorsystemtypeid  bathroomcnt  \\\n",
       "0  10711855                  261.0                    2.0          2.0   \n",
       "1  10711877                  261.0                    2.0          2.0   \n",
       "2  10711888                  261.0                    2.0          2.0   \n",
       "3  10711910                  261.0                    2.0          2.0   \n",
       "4  10711923                  261.0                    2.0          2.0   \n",
       "\n",
       "   bedroomcnt  buildingqualitytypeid  calculatedbathnbr  \\\n",
       "0         3.0                    8.0                2.0   \n",
       "1         4.0                    8.0                2.0   \n",
       "2         4.0                    8.0                2.0   \n",
       "3         3.0                    8.0                2.0   \n",
       "4         4.0                    8.0                2.0   \n",
       "\n",
       "   calculatedfinishedsquarefeet       county    latitude    longitude  \\\n",
       "0                        2107.0  Los Angeles  34222559.0 -118617387.0   \n",
       "1                        1882.0  Los Angeles  34220261.0 -118616409.0   \n",
       "2                        1882.0  Los Angeles  34222491.0 -118616854.0   \n",
       "3                        1477.0  Los Angeles  34221864.0 -118615739.0   \n",
       "4                        1918.0  Los Angeles  34220619.0 -118615253.0   \n",
       "\n",
       "   lotsizesquarefeet  rawcensustractandblock  regionidcounty  regionidzip  \\\n",
       "0             9158.0            6.037113e+07          3101.0      96339.0   \n",
       "1             9035.0            6.037113e+07          3101.0      96339.0   \n",
       "2             9800.0            6.037113e+07          3101.0      96339.0   \n",
       "3            11285.0            6.037113e+07          3101.0      96339.0   \n",
       "4            11239.0            6.037113e+07          3101.0      96339.0   \n",
       "\n",
       "   roomcnt  unitcnt  yearbuilt  structuretaxvaluedollarcnt  taxvaluedollarcnt  \\\n",
       "0      0.0      1.0     1972.0                    249655.0           624139.0   \n",
       "1      0.0      1.0     1972.0                    253000.0           660000.0   \n",
       "2      0.0      1.0     1972.0                    257591.0           542923.0   \n",
       "3      0.0      1.0     1960.0                     57968.0            78031.0   \n",
       "4      0.0      1.0     1960.0                    167869.0           415459.0   \n",
       "\n",
       "   landtaxvaluedollarcnt  taxamount  censustractandblock     error  \\\n",
       "0               374484.0    7659.36         6.037113e+13 -0.007357   \n",
       "1               407000.0    8123.91         6.037113e+13  0.021066   \n",
       "2               285332.0    6673.24         6.037113e+13  0.077174   \n",
       "3                20063.0    1116.46         6.037113e+13 -0.041238   \n",
       "4               247590.0    5239.85         6.037113e+13 -0.009496   \n",
       "\n",
       "  transactiondate heatingorsystemdesc        propertylandusedesc  \n",
       "0      2017-07-07             Central  Single Family Residential  \n",
       "1      2017-08-29             Central  Single Family Residential  \n",
       "2      2017-04-04             Central  Single Family Residential  \n",
       "3      2017-03-17             Central  Single Family Residential  \n",
       "4      2017-03-24             Central  Single Family Residential  "
      ]
     },
     "execution_count": 8,
     "metadata": {},
     "output_type": "execute_result"
    }
   ],
   "source": [
    "db.head()"
   ]
  },
  {
   "cell_type": "code",
   "execution_count": 9,
   "metadata": {},
   "outputs": [],
   "source": [
    "train, test = train_test_split(db, test_size=.2, random_state=123)\n",
    "train, validate = train_test_split(train, test_size=.3, random_state=123)"
   ]
  },
  {
   "cell_type": "code",
   "execution_count": 10,
   "metadata": {},
   "outputs": [],
   "source": [
    "binary_vars = []\n",
    "categorical_vars = ['county', 'propertylandusetypeid']\n",
    "quant_vars = ['bathroomcnt', 'bedroomcnt', 'taxvaluedollarcnt']\n",
    "categorical_target = 'error_class'\n",
    "continuous_target = 'error'"
   ]
  },
  {
   "cell_type": "code",
   "execution_count": 11,
   "metadata": {},
   "outputs": [
    {
     "data": {
      "text/plain": [
       "<AxesSubplot:xlabel='county', ylabel='error'>"
      ]
     },
     "execution_count": 11,
     "metadata": {},
     "output_type": "execute_result"
    },
    {
     "data": {
      "image/png": "[encoded data removed]",
      "text/plain": [
       "<Figure size 432x288 with 1 Axes>"
      ]
     },
     "metadata": {
      "needs_background": "light"
     },
     "output_type": "display_data"
    }
   ],
   "source": [
    "sns.barplot(x = train['county'], y = train['error'])"
   ]
  },
  {
   "cell_type": "code",
   "execution_count": 12,
   "metadata": {},
   "outputs": [
    {
     "name": "stderr",
     "output_type": "stream",
     "text": [
      "/usr/local/anaconda3/lib/python3.8/site-packages/pandas/core/series.py:726: RuntimeWarning: invalid value encountered in log10\n",
      "  result = getattr(ufunc, method)(*inputs, **kwargs)\n"
     ]
    },
    {
     "data": {
      "text/plain": [
       "<AxesSubplot:xlabel='error', ylabel='Count'>"
      ]
     },
     "execution_count": 12,
     "metadata": {},
     "output_type": "execute_result"
    },
    {
     "data": {
      "image/png": "[encoded data removed]",
      "text/plain": [
       "<Figure size 432x288 with 1 Axes>"
      ]
     },
     "metadata": {
      "needs_background": "light"
     },
     "output_type": "display_data"
    }
   ],
   "source": [
    "sns.histplot(train['error'], log_scale = True)"
   ]
  },
  {
   "cell_type": "code",
   "execution_count": 13,
   "metadata": {},
   "outputs": [
    {
     "data": {
      "text/plain": [
       "<AxesSubplot:xlabel='calculatedfinishedsquarefeet', ylabel='error'>"
      ]
     },
     "execution_count": 13,
     "metadata": {},
     "output_type": "execute_result"
    },
    {
     "data": {
      "image/png": "[encoded data removed]",
      "text/plain": [
       "<Figure size 432x288 with 1 Axes>"
      ]
     },
     "metadata": {
      "needs_background": "light"
     },
     "output_type": "display_data"
    }
   ],
   "source": [
    "sns.scatterplot(x = train['calculatedfinishedsquarefeet'], y = train['error'])"
   ]
  },
  {
   "cell_type": "code",
   "execution_count": 14,
   "metadata": {},
   "outputs": [
    {
     "data": {
      "text/plain": [
       "<AxesSubplot:xlabel='taxvaluedollarcnt', ylabel='error'>"
      ]
     },
     "execution_count": 14,
     "metadata": {},
     "output_type": "execute_result"
    },
    {
     "data": {
      "image/png": "[encoded data removed]",
      "text/plain": [
       "<Figure size 432x288 with 1 Axes>"
      ]
     },
     "metadata": {
      "needs_background": "light"
     },
     "output_type": "display_data"
    }
   ],
   "source": [
    "sns.scatterplot(x = train['taxvaluedollarcnt'], y = train['error'])"
   ]
  },
  {
   "cell_type": "code",
   "execution_count": 15,
   "metadata": {},
   "outputs": [
    {
     "data": {
      "text/plain": [
       "<AxesSubplot:xlabel='yearbuilt', ylabel='error'>"
      ]
     },
     "execution_count": 15,
     "metadata": {},
     "output_type": "execute_result"
    },
    {
     "data": {
      "image/png": "[encoded data removed]",
      "text/plain": [
       "<Figure size 432x288 with 1 Axes>"
      ]
     },
     "metadata": {
      "needs_background": "light"
     },
     "output_type": "display_data"
    }
   ],
   "source": [
    "sns.scatterplot(x = train['yearbuilt'], y = train['error'])"
   ]
  },
  {
   "cell_type": "code",
   "execution_count": 16,
   "metadata": {},
   "outputs": [
    {
     "data": {
      "text/plain": [
       "<AxesSubplot:xlabel='propertylandusetypeid', ylabel='error'>"
      ]
     },
     "execution_count": 16,
     "metadata": {},
     "output_type": "execute_result"
    },
    {
     "data": {
      "image/png": "[encoded data removed]",
      "text/plain": [
       "<Figure size 432x288 with 1 Axes>"
      ]
     },
     "metadata": {
      "needs_background": "light"
     },
     "output_type": "display_data"
    }
   ],
   "source": [
    "sns.barplot(x = train['propertylandusetypeid'], y = train['error'])"
   ]
  },
  {
   "cell_type": "markdown",
   "metadata": {},
   "source": [
    "## Test 1"
   ]
  },
  {
   "cell_type": "markdown",
   "metadata": {},
   "source": [
    "Is logerror significantly different for properties in LA County vs. Orange County?"
   ]
  },
  {
   "cell_type": "code",
   "execution_count": 17,
   "metadata": {},
   "outputs": [
    {
     "data": {
      "text/plain": [
       "Ttest_indResult(statistic=-4.922503933768536, pvalue=8.595459414063967e-07)"
      ]
     },
     "execution_count": 17,
     "metadata": {},
     "output_type": "execute_result"
    }
   ],
   "source": [
    "x1 = train[train['county'] == 'Los Angeles']\n",
    "x2 = train[train['county'] == 'Orange']\n",
    "stats.ttest_ind(x1['error'], x2['error'])"
   ]
  },
  {
   "cell_type": "markdown",
   "metadata": {},
   "source": [
    "This is indicative that there may be a significant difference in logerror between Los Angeles and Orange County"
   ]
  },
  {
   "cell_type": "markdown",
   "metadata": {},
   "source": [
    "## Test 2"
   ]
  },
  {
   "cell_type": "markdown",
   "metadata": {},
   "source": [
    "Now let's do the same for LA County and Ventura County"
   ]
  },
  {
   "cell_type": "code",
   "execution_count": 18,
   "metadata": {},
   "outputs": [
    {
     "data": {
      "text/plain": [
       "Ttest_indResult(statistic=0.3577964883356299, pvalue=0.7204991685305175)"
      ]
     },
     "execution_count": 18,
     "metadata": {},
     "output_type": "execute_result"
    }
   ],
   "source": [
    "x1 = train[train['county'] == 'Los Angeles']\n",
    "x2 = train[train['county'] == 'Ventura']\n",
    "stats.ttest_ind(x1['error'], x2['error'])"
   ]
  },
  {
   "cell_type": "markdown",
   "metadata": {},
   "source": [
    "This shows that there is likely not a significant difference in logerror between LA and Ventura counties"
   ]
  },
  {
   "cell_type": "markdown",
   "metadata": {},
   "source": [
    "## Test 3"
   ]
  },
  {
   "cell_type": "markdown",
   "metadata": {},
   "source": [
    "Ventura and Orange counties"
   ]
  },
  {
   "cell_type": "code",
   "execution_count": 19,
   "metadata": {},
   "outputs": [
    {
     "data": {
      "text/plain": [
       "Ttest_indResult(statistic=2.9780125117961, pvalue=0.002908010818608747)"
      ]
     },
     "execution_count": 19,
     "metadata": {},
     "output_type": "execute_result"
    }
   ],
   "source": [
    "x1 = train[train['county'] == 'Orange']\n",
    "x2 = train[train['county'] == 'Ventura']\n",
    "stats.ttest_ind(x1['error'], x2['error'])"
   ]
  },
  {
   "cell_type": "markdown",
   "metadata": {},
   "source": [
    "It would seem Orange County has a significant difference in logerror between LA and Ventura."
   ]
  },
  {
   "cell_type": "markdown",
   "metadata": {},
   "source": [
    "## Test 4"
   ]
  },
  {
   "cell_type": "markdown",
   "metadata": {},
   "source": [
    "Is there a correlation between square footage and logerror?"
   ]
  },
  {
   "cell_type": "code",
   "execution_count": 20,
   "metadata": {},
   "outputs": [
    {
     "data": {
      "text/plain": [
       "(0.04085911881753078, 3.1447694150199207e-12)"
      ]
     },
     "execution_count": 20,
     "metadata": {},
     "output_type": "execute_result"
    }
   ],
   "source": [
    "corr, p = stats.pearsonr(train['calculatedfinishedsquarefeet'], train['error'])\n",
    "corr, p"
   ]
  },
  {
   "cell_type": "markdown",
   "metadata": {},
   "source": [
    "No significant correlation can be seen between square footage and logerror"
   ]
  },
  {
   "cell_type": "markdown",
   "metadata": {},
   "source": [
    "## Test 5"
   ]
  },
  {
   "cell_type": "markdown",
   "metadata": {},
   "source": [
    "Is there a significant difference in logerror for mobile homes compared to the average?"
   ]
  },
  {
   "cell_type": "code",
   "execution_count": 21,
   "metadata": {},
   "outputs": [
    {
     "name": "stdout",
     "output_type": "stream",
     "text": [
      "t = 2.113\n",
      "p = 0.042\n"
     ]
    }
   ],
   "source": [
    "x1 = train[train['propertylandusetypeid'] == 263]\n",
    "x1 = x1['error']\n",
    "x2 = train.error.mean()\n",
    "t, p = stats.ttest_1samp(x1, x2)\n",
    "\n",
    "print(f't = {t:.3f}')\n",
    "print(f'p = {p:.3f}')"
   ]
  },
  {
   "cell_type": "markdown",
   "metadata": {},
   "source": [
    "This suggests that there is a significant difference in the logerror of estimating mobile homes"
   ]
  },
  {
   "cell_type": "markdown",
   "metadata": {},
   "source": [
    "## Gathering zipcodes from specified counties"
   ]
  },
  {
   "cell_type": "code",
   "execution_count": null,
   "metadata": {},
   "outputs": [],
   "source": [
    "def get_full_text(file):\n",
    "    pdfReader = PyPDF2.PdfFileReader(file)\n",
    "    pages = pdfReader.numPages\n",
    "    fulltext = ''\n",
    "    for i in range(0, pages):\n",
    "        page = pdfReader.getPage(i)\n",
    "        page = page.extractText()\n",
    "        fulltext = fulltext + page\n",
    "    return fulltext"
   ]
  },
  {
   "cell_type": "code",
   "execution_count": null,
   "metadata": {},
   "outputs": [],
   "source": [
    "book_la = get_full_text('LaZips.pdf')"
   ]
  },
  {
   "cell_type": "code",
   "execution_count": null,
   "metadata": {},
   "outputs": [],
   "source": [
    "book_la = get_full_text('LaZips.pdf')\n",
    "zip_list_la = re.findall(r\"\\D(\\d{5})\\D\", book_la)\n",
    "book_o = get_full_text('OrangeCountyZips.pdf')\n",
    "zip_list_o = re.findall(r\"\\D(\\d{5})\\D\", book_o)\n",
    "zip_list_o.pop()\n",
    "book_v = get_full_text('VenturaZips.pdf')\n",
    "zip_list_v = re.findall(r\"\\D(\\d{5})\\D\", book_v)\n",
    "all_zips = zip_list_la + zip_list_o + zip_list_v\n",
    "g = [int(i) for i in all_zips]\n",
    "db = db.astype({'regionidzip': 'int'})\n",
    "fixed = db[db.regionidzip.isin(g)]"
   ]
  },
  {
   "cell_type": "code",
   "execution_count": null,
   "metadata": {},
   "outputs": [],
   "source": [
    "fixed"
   ]
  },
  {
   "cell_type": "markdown",
   "metadata": {},
   "source": [
    "After getting zipcodes from the counties from various sources, I have discovered that the zipcode list is not reliable, as none of the zipcodes listed are in the counties of Orange, Los Angeles, or Ventura."
   ]
  },
  {
   "cell_type": "code",
   "execution_count": null,
   "metadata": {},
   "outputs": [],
   "source": []
  },
  {
   "cell_type": "code",
   "execution_count": null,
   "metadata": {},
   "outputs": [],
   "source": []
  }
 ],
 "metadata": {
  "kernelspec": {
   "display_name": "Python 3",
   "language": "python",
   "name": "python3"
  },
  "language_info": {
   "codemirror_mode": {
    "name": "ipython",
    "version": 3
   },
   "file_extension": ".py",
   "mimetype": "text/x-python",
   "name": "python",
   "nbconvert_exporter": "python",
   "pygments_lexer": "ipython3",
   "version": "3.8.5"
  }
 },
 "nbformat": 4,
 "nbformat_minor": 4
}
